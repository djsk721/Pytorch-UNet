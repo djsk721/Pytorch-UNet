{
 "cells": [
  {
   "cell_type": "code",
   "execution_count": 1,
   "metadata": {},
   "outputs": [],
   "source": [
    "import torch\n",
    "import torchvision\n",
    "import torchvision.transforms as transforms\n",
    "import matplotlib.pyplot as plt\n",
    "import numpy as np"
   ]
  },
  {
   "cell_type": "code",
   "execution_count": 2,
   "metadata": {},
   "outputs": [],
   "source": [
    "def make_cifar10(batch_size):\n",
    "    transform = transforms.Compose(\n",
    "        [transforms.ToTensor(),\n",
    "        transforms.Normalize((0.5, 0.5, 0.5), (0.5, 0.5, 0.5))])\n",
    "\n",
    "\n",
    "    trainset = torchvision.datasets.CIFAR10(root='./data', train=True,\n",
    "                                            download=True, transform=transform)\n",
    "    trainloader = torch.utils.data.DataLoader(trainset, batch_size=batch_size,\n",
    "                                            shuffle=True, num_workers=2)\n",
    "\n",
    "    testset = torchvision.datasets.CIFAR10(root='./data', train=False,\n",
    "                                        download=True, transform=transform)\n",
    "    testloader = torch.utils.data.DataLoader(testset, batch_size=batch_size,\n",
    "                                            shuffle=False, num_workers=2)\n",
    "    \n",
    "    return trainset, trainloader, testset, testloader\n",
    "\n",
    "def imshow(img):\n",
    "    img = img / 2 + 0.5     # unnormalize\n",
    "    npimg = img.numpy()\n",
    "    plt.imshow(np.transpose(npimg, (1, 2, 0)))\n",
    "    plt.show()\n"
   ]
  },
  {
   "cell_type": "code",
   "execution_count": 3,
   "metadata": {},
   "outputs": [
    {
     "name": "stdout",
     "output_type": "stream",
     "text": [
      "Files already downloaded and verified\n",
      "Files already downloaded and verified\n"
     ]
    },
    {
     "data": {
      "image/png": "[encoded data removed]",
      "text/plain": [
       "<Figure size 640x480 with 1 Axes>"
      ]
     },
     "metadata": {},
     "output_type": "display_data"
    }
   ],
   "source": [
    "# 학습데이터 가져오기\n",
    "trainset, trainloader, testset, testloader= make_cifar10(2)\n",
    "\n",
    "# 학습용 이미지를 무작위로 가져오기\n",
    "dataiter = iter(trainloader)\n",
    "images, labels = next(dataiter)\n",
    "\n",
    "# 이미지 보여주기\n",
    "imshow(torchvision.utils.make_grid(images))\n",
    "# 정답(label) 출력\n",
    "# print(' '.join(f'{classes[labels[j]]:5s}' for j in range(batch_size)))"
   ]
  },
  {
   "cell_type": "code",
   "execution_count": 4,
   "metadata": {},
   "outputs": [
    {
     "name": "stderr",
     "output_type": "stream",
     "text": [
      "                                                                         \r"
     ]
    }
   ],
   "source": [
    "import torch\n",
    "from evaluate_cifar10 import evaluate\n",
    "from unet.unet_model import UNet\n",
    "device = torch.device('cuda' if torch.cuda.is_available() else 'cpu')\n",
    "\n",
    "# Change here to adapt to your data\n",
    "# n_channels=3 for RGB images\n",
    "# n_classes is the number of probabilities you want to get per pixel\n",
    "model = UNet(n_channels=3, n_classes=3, bilinear=False)\n",
    "model = model.to(memory_format=torch.channels_last)\n",
    "\n",
    "\n",
    "model.to(device=device)\n",
    "val_score = evaluate(model, testloader, device, False)\n"
   ]
  },
  {
   "cell_type": "code",
   "execution_count": 5,
   "metadata": {},
   "outputs": [
    {
     "data": {
      "text/plain": [
       "12.2058"
      ]
     },
     "execution_count": 5,
     "metadata": {},
     "output_type": "execute_result"
    }
   ],
   "source": [
    "val_score"
   ]
  },
  {
   "cell_type": "code",
   "execution_count": 4,
   "metadata": {},
   "outputs": [],
   "source": [
    "import torch\n",
    "\n",
    "def add_gaussian_noise(image, stddev=0.2):\n",
    "    \"\"\"\n",
    "    Add Gaussian noise to an image tensor.\n",
    "\n",
    "    Args:\n",
    "        image (torch.Tensor): Input image tensor (batch_size x channels x height x width).\n",
    "        stddev (float): Standard deviation of the Gaussian noise.\n",
    "\n",
    "    Returns:\n",
    "        torch.Tensor: Noisy image tensor with values clamped between 0 and 1.\n",
    "    \"\"\"\n",
    "    # Generate random noise with the same size as the image\n",
    "    noise = torch.randn_like(image) * stddev\n",
    "\n",
    "    # Add the noise to the image\n",
    "    noisy_image = image + noise\n",
    "\n",
    "    # Clip the pixel values to be in the range [0, 1]\n",
    "    noisy_image = torch.clamp(noisy_image, 0, 1)\n",
    "\n",
    "    return noisy_image"
   ]
  },
  {
   "cell_type": "code",
   "execution_count": 21,
   "metadata": {},
   "outputs": [],
   "source": [
    "def compare_image(original_image, noisy_image, prediction_image):\n",
    "    plt.figure(figsize=(10, 5))\n",
    "    plt.subplot(1, 3, 1)\n",
    "    plt.title(\"Original Image\")\n",
    "    plt.imshow(original_image.squeeze().permute(1, 2, 0).numpy())\n",
    "    plt.axis('off')\n",
    "\n",
    "    plt.subplot(1, 3, 2)\n",
    "    plt.title(\"Noisy Image\")\n",
    "    plt.imshow(noisy_image.squeeze().permute(1, 2, 0).numpy())\n",
    "    plt.axis('off')\n",
    "\n",
    "    plt.subplot(1, 3, 3)\n",
    "    plt.title(\"Prediction_image\")\n",
    "    plt.imshow(prediction_image.squeeze().permute(1, 2, 0).numpy())\n",
    "    plt.axis('off')\n",
    "\n",
    "    plt.show()"
   ]
  },
  {
   "cell_type": "code",
   "execution_count": 35,
   "metadata": {},
   "outputs": [
    {
     "name": "stderr",
     "output_type": "stream",
     "text": [
      "Clipping input data to the valid range for imshow with RGB data ([0..1] for floats or [0..255] for integers).\n",
      "Clipping input data to the valid range for imshow with RGB data ([0..1] for floats or [0..255] for integers).\n"
     ]
    },
    {
     "name": "stdout",
     "output_type": "stream",
     "text": [
      "len(batch):  2\n",
      "batch[0]:  tensor([[[[ 0.8431,  0.7725,  0.8353,  ...,  0.4510,  0.4588,  0.5686],\n",
      "          [ 0.7020,  0.6078,  0.6863,  ..., -0.3098, -0.1216,  0.0667],\n",
      "          [ 0.6000,  0.5059,  0.5765,  ..., -0.6471, -0.3098, -0.1922],\n",
      "          ...,\n",
      "          [ 0.5843,  0.4667,  0.1765,  ..., -0.3255, -0.3333, -0.2000],\n",
      "          [ 0.5373,  0.3569,  0.2157,  ..., -0.1294, -0.1137,  0.0118],\n",
      "          [ 0.7569,  0.5922,  0.4039,  ...,  0.3725,  0.3490,  0.4118]],\n",
      "\n",
      "         [[ 0.9137,  0.8745,  0.9137,  ...,  0.4667,  0.4745,  0.5843],\n",
      "          [ 0.7490,  0.6941,  0.7490,  ..., -0.2627, -0.0980,  0.0902],\n",
      "          [ 0.6392,  0.5922,  0.6471,  ..., -0.5765, -0.2627, -0.1608],\n",
      "          ...,\n",
      "          [ 0.6314,  0.5137,  0.2235,  ..., -0.3569, -0.2784, -0.1294],\n",
      "          [ 0.5765,  0.3961,  0.2549,  ..., -0.1529, -0.0667,  0.0745],\n",
      "          [ 0.7961,  0.6314,  0.4431,  ...,  0.3490,  0.3961,  0.4667]],\n",
      "\n",
      "         [[ 0.9059,  0.9137,  0.9451,  ...,  0.4196,  0.3961,  0.5137],\n",
      "          [ 0.8667,  0.8118,  0.8275,  ..., -0.3176, -0.2471, -0.0588],\n",
      "          [ 0.7961,  0.7176,  0.6941,  ..., -0.6392, -0.4902, -0.3882],\n",
      "          ...,\n",
      "          [ 0.5608,  0.4353,  0.1529,  ..., -0.5137, -0.4902, -0.3255],\n",
      "          [ 0.5216,  0.3412,  0.2000,  ..., -0.2706, -0.2471, -0.0980],\n",
      "          [ 0.7490,  0.5765,  0.3961,  ...,  0.2863,  0.2549,  0.3176]]],\n",
      "\n",
      "\n",
      "        [[[-0.8980, -0.8824, -0.6863,  ..., -0.1843, -0.1765, -0.1922],\n",
      "          [-0.8431, -0.8588, -0.8745,  ..., -0.1686, -0.1608, -0.1686],\n",
      "          [-0.8431, -0.8353, -0.8196,  ..., -0.1608, -0.1529, -0.1529],\n",
      "          ...,\n",
      "          [-0.2235, -0.2314, -0.1922,  ...,  0.0039,  0.0196,  0.0275],\n",
      "          [-0.2314, -0.2235, -0.2078,  ..., -0.0588, -0.0431, -0.0196],\n",
      "          [-0.2392, -0.2235, -0.1922,  ..., -0.0902, -0.0902, -0.0902]],\n",
      "\n",
      "         [[-0.8980, -0.8510, -0.6471,  ...,  0.0275,  0.0196, -0.0118],\n",
      "          [-0.8667, -0.8667, -0.8745,  ...,  0.1216,  0.1137,  0.0824],\n",
      "          [-0.8902, -0.8667, -0.8510,  ...,  0.1059,  0.0980,  0.0745],\n",
      "          ...,\n",
      "          [-0.2157, -0.2235, -0.1843,  ...,  0.0196,  0.0353,  0.0431],\n",
      "          [-0.2235, -0.2157, -0.2000,  ..., -0.0431, -0.0275, -0.0118],\n",
      "          [-0.2314, -0.2157, -0.1843,  ..., -0.0824, -0.0824, -0.0824]],\n",
      "\n",
      "         [[-0.9216, -0.8275, -0.5686,  ...,  0.2549,  0.2549,  0.2235],\n",
      "          [-0.8980, -0.8745, -0.8588,  ...,  0.3490,  0.3490,  0.3255],\n",
      "          [-0.9137, -0.9059, -0.8980,  ...,  0.3569,  0.3490,  0.3412],\n",
      "          ...,\n",
      "          [-0.2863, -0.2863, -0.2471,  ..., -0.0667, -0.0510, -0.0510],\n",
      "          [-0.2863, -0.2784, -0.2627,  ..., -0.1137, -0.0980, -0.0824],\n",
      "          [-0.2941, -0.2784, -0.2471,  ..., -0.1294, -0.1373, -0.1373]]]])\n",
      "batch[1]:  tensor([1, 9])\n",
      "batch[0].shape:  torch.Size([2, 3, 32, 32])\n",
      "type(batch[0]):  <class 'torch.Tensor'>\n",
      "batch[1].shape:  torch.Size([2])\n",
      "tensor([[[[0.0093, 0.1067, 0.0596,  ..., 0.2353, 0.2125, 0.3584],\n",
      "          [0.0000, 0.0471, 0.1753,  ..., 0.0000, 0.1938, 0.2963],\n",
      "          [0.0604, 0.2077, 0.1656,  ..., 0.2282, 0.1740, 0.1770],\n",
      "          ...,\n",
      "          [0.1598, 0.1869, 0.3076,  ..., 0.2993, 0.2806, 0.1243],\n",
      "          [0.0498, 0.0135, 0.1922,  ..., 0.2030, 0.3047, 0.2232],\n",
      "          [0.1781, 0.0931, 0.0444,  ..., 0.2792, 0.1561, 0.1927]],\n",
      "\n",
      "         [[0.0000, 0.0000, 0.0000,  ..., 0.0000, 0.0000, 0.1093],\n",
      "          [0.0000, 0.0000, 0.0000,  ..., 0.0000, 0.0000, 0.0174],\n",
      "          [0.0000, 0.0000, 0.0527,  ..., 0.0000, 0.0000, 0.0000],\n",
      "          ...,\n",
      "          [0.0000, 0.0000, 0.0000,  ..., 0.0000, 0.0088, 0.0000],\n",
      "          [0.0000, 0.0000, 0.0000,  ..., 0.0000, 0.0000, 0.0000],\n",
      "          [0.0000, 0.0000, 0.0000,  ..., 0.0241, 0.0000, 0.0000]],\n",
      "\n",
      "         [[0.0000, 0.0000, 0.0000,  ..., 0.0000, 0.0000, 0.1054],\n",
      "          [0.0000, 0.0000, 0.0000,  ..., 0.0000, 0.0000, 0.0363],\n",
      "          [0.0000, 0.0000, 0.0000,  ..., 0.0000, 0.0000, 0.0000],\n",
      "          ...,\n",
      "          [0.0000, 0.0000, 0.0000,  ..., 0.0000, 0.0503, 0.0000],\n",
      "          [0.0000, 0.0000, 0.0000,  ..., 0.0000, 0.0000, 0.0000],\n",
      "          [0.0000, 0.0000, 0.0000,  ..., 0.0000, 0.0000, 0.0000]]],\n",
      "\n",
      "\n",
      "        [[[0.0000, 0.0000, 0.0000,  ..., 0.0982, 0.2149, 0.0411],\n",
      "          [0.0000, 0.0000, 0.0000,  ..., 0.0342, 0.1411, 0.1098],\n",
      "          [0.0000, 0.0000, 0.0000,  ..., 0.3528, 0.1468, 0.2318],\n",
      "          ...,\n",
      "          [0.0000, 0.0000, 0.0000,  ..., 0.0000, 0.0000, 0.0000],\n",
      "          [0.0000, 0.0000, 0.0000,  ..., 0.0000, 0.0000, 0.0000],\n",
      "          [0.0000, 0.0000, 0.0000,  ..., 0.0000, 0.0000, 0.0000]],\n",
      "\n",
      "         [[0.0000, 0.0144, 0.0000,  ..., 0.2002, 0.2034, 0.1416],\n",
      "          [0.0967, 0.0000, 0.0000,  ..., 0.1369, 0.2500, 0.2403],\n",
      "          [0.0284, 0.0000, 0.0000,  ..., 0.3701, 0.2483, 0.2146],\n",
      "          ...,\n",
      "          [0.0000, 0.0000, 0.0000,  ..., 0.0130, 0.0000, 0.0000],\n",
      "          [0.0000, 0.0000, 0.0000,  ..., 0.0000, 0.0000, 0.0000],\n",
      "          [0.0000, 0.0000, 0.0000,  ..., 0.0000, 0.0000, 0.0000]],\n",
      "\n",
      "         [[0.0000, 0.0364, 0.0313,  ..., 0.2350, 0.2191, 0.0542],\n",
      "          [0.0000, 0.0000, 0.0000,  ..., 0.0000, 0.2387, 0.1728],\n",
      "          [0.0000, 0.0000, 0.0000,  ..., 0.2314, 0.1957, 0.1956],\n",
      "          ...,\n",
      "          [0.0000, 0.0000, 0.0000,  ..., 0.0000, 0.0000, 0.0000],\n",
      "          [0.0000, 0.0000, 0.0000,  ..., 0.0000, 0.0000, 0.0000],\n",
      "          [0.0000, 0.0000, 0.0000,  ..., 0.0000, 0.0000, 0.0000]]]])\n",
      "<class 'torch.Tensor'>\n"
     ]
    },
    {
     "data": {
      "image/png": "[encoded data removed]",
      "text/plain": [
       "<Figure size 1000x500 with 3 Axes>"
      ]
     },
     "metadata": {},
     "output_type": "display_data"
    },
    {
     "name": "stdout",
     "output_type": "stream",
     "text": [
      "**동일 이미지 비교**\n",
      "PSNR : 12.898420715473918\n"
     ]
    }
   ],
   "source": [
    "from skimage.metrics import peak_signal_noise_ratio, structural_similarity\n",
    "\n",
    "\n",
    "i = 0\n",
    "for batch in trainloader:\n",
    "    if i== 1:\n",
    "        break\n",
    "    # print(\"batch : \", batch)\n",
    "    print(\"len(batch): \",len(batch))\n",
    "    print(\"batch[0]: \",batch[0])\n",
    "    print(\"batch[1]: \",batch[1])\n",
    "    print(\"batch[0].shape: \",batch[0].shape)\n",
    "    print(\"type(batch[0]): \",type(batch[0]))\n",
    "    print(\"batch[1].shape: \",batch[1].shape)\n",
    "    # images, true_masks = batch, add_gaussian_noise(batch[0])\n",
    "    images, true_masks = batch[0], add_gaussian_noise(images, 0.05)\n",
    "    print(true_masks)\n",
    "    print(type(true_masks))\n",
    "    compare_image(images[0], true_masks[0], images[0])\n",
    "    print(\"**동일 이미지 비교**\")\n",
    "    print(\"PSNR :\", peak_signal_noise_ratio(np.array(images), np.array(true_masks)))\n",
    "    i += 1"
   ]
  },
  {
   "cell_type": "code",
   "execution_count": null,
   "metadata": {},
   "outputs": [],
   "source": [
    "def showOrigNoiseOut(orig, noise, denoise, num=10):\n",
    "    import matplotlib.pyplot as plt \n",
    "    n = num\n",
    "    plt.figure(figsize=(20, 6))\n",
    "\n",
    "    for i in range(n):\n",
    "        # display original\n",
    "        ax = plt.subplot(3, n, i+1)\n",
    "        imshow(orig[i])\n",
    "        ax.get_xaxis().set_visible(False)\n",
    "        ax.get_yaxis().set_visible(False)\n",
    "\n",
    "        # display noisy image\n",
    "        ax = plt.subplot(3, n, i +1 + n)\n",
    "        imshow(noise[i])\n",
    "        ax.get_xaxis().set_visible(False)\n",
    "        ax.get_yaxis().set_visible(False)\n",
    "        \n",
    "        # display denoised image\n",
    "        ax = plt.subplot(3, n, i +1 + n + n)\n",
    "        imshow(denoise[i])\n",
    "        ax.get_xaxis().set_visible(False)\n",
    "        ax.get_yaxis().set_visible(False)\n",
    "    \n",
    "    plt.figtext(0.5,0.95, \"ORIGINAL IMAGES\", ha=\"center\", va=\"top\", fontsize=14, color=\"r\")\n",
    "    plt.figtext(0.5,0.65, \"NOISY IMAGES\", ha=\"center\", va=\"top\", fontsize=14, color=\"r\")\n",
    "    plt.figtext(0.5,0.35, \" DENOISED RECONSTRUCTED IMAGES\", ha=\"center\", va=\"top\", fontsize=14, color=\"r\")\n",
    "    plt.subplots_adjust(hspace = 0.5 )\n",
    "    plt.show()\n",
    "\n",
    "def imshow(img):\n",
    "   plt.imshow(np.transpose(img, (1, 2, 0)))  # convert from Tensor image"
   ]
  },
  {
   "cell_type": "code",
   "execution_count": null,
   "metadata": {},
   "outputs": [],
   "source": [
    "from skimage.metrics import peak_signal_noise_ratio, structural_similarity\n"
   ]
  },
  {
   "cell_type": "code",
   "execution_count": null,
   "metadata": {},
   "outputs": [
    {
     "ename": "",
     "evalue": "",
     "output_type": "error",
     "traceback": [
      "\u001b[1;31mThe kernel failed to start as the Python Environment 'Pytorch-UNet' is no longer available. Consider selecting another kernel or refreshing the list of Python Environments."
     ]
    }
   ],
   "source": [
    "from skimage.metrics import peak_signal_noise_ratio, structural_similarity\n",
    "\n",
    "print(\"**동일 이미지 비교**\")\n",
    "print(\"PSNR :\", peak_signal_noise_ratio(hr_cat, hr_cat))"
   ]
  },
  {
   "cell_type": "code",
   "execution_count": 47,
   "metadata": {},
   "outputs": [
    {
     "data": {
      "text/plain": [
       "tensor(0.0014, device='cuda:0')"
      ]
     },
     "execution_count": 47,
     "metadata": {},
     "output_type": "execute_result"
    }
   ],
   "source": [
    "val_score"
   ]
  },
  {
   "cell_type": "code",
   "execution_count": null,
   "metadata": {},
   "outputs": [],
   "source": []
  }
 ],
 "metadata": {
  "kernelspec": {
   "display_name": "DICOM",
   "language": "python",
   "name": "python3"
  },
  "language_info": {
   "codemirror_mode": {
    "name": "ipython",
    "version": 3
   },
   "file_extension": ".py",
   "mimetype": "text/x-python",
   "name": "python",
   "nbconvert_exporter": "python",
   "pygments_lexer": "ipython3",
   "version": "3.10.12"
  },
  "orig_nbformat": 4
 },
 "nbformat": 4,
 "nbformat_minor": 2
}
